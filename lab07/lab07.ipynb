{
 "cells": [
  {
   "cell_type": "code",
   "execution_count": 3,
   "id": "fe58cda4",
   "metadata": {},
   "outputs": [],
   "source": [
    "def main():\n",
    "    #создаю алфавит\n",
    "    dict = {\"а\" :1, \"б\" :2 , \"в\" :3 ,\"г\" :4 ,\"д\" :5 ,\"е\" :6 ,\"ё\" :7 ,\"ж\": 8, \"з\": 9, \"и\": 10, \"й\": 11, \"к\": 12, \"л\": 13,\n",
    "            \"м\": 14, \"н\": 15, \"о\": 16, \"п\": 17,\n",
    "            \"р\": 18, \"с\": 19, \"т\": 20, \"у\": 21, \"ф\": 22, \"х\": 23, \"ц\": 24, \"ч\": 25, \"ш\": 26, \"щ\": 27, \"ъ\": 28,\n",
    "            \"ы\": 29, \"ь\": 30, \"э\": 31, \"ю\": 32, \"я\": 32\n",
    "            }\n",
    "    #меняю местами ключ и значение\n",
    "    dict2 = {v: k for k, v in dict.items()}\n",
    "    gamma = input(\"Введите гамму на русском языке без пробелов\").lower()\n",
    "    text = input(\"Введите текст для шифрования\").lower()\n",
    "    listofdigitsoftext = list() #сюда будем записывать числа букв из текста\n",
    "    listofdigitsofgamma = list() #для гаммы  \n",
    "    #запишу числа в список\n",
    "    for i in text:\n",
    "        listofdigitsoftext.append(dict[i])\n",
    "    print(\"Числа текста\", listofdigitsoftext)\n",
    "    #то же самое сделаем с гаммой\n",
    "    for i in gamma:\n",
    "        listofdigitsofgamma.append(dict[i])\n",
    "    print(\"числа гаммы\", listofdigitsofgamma)\n",
    "    listofdigitsresult = list() #сюда будем записывать результат\n",
    "    ch = 0\n",
    "    for i in text:\n",
    "        try:\n",
    "            a = dict[i] + listofdigitsofgamma[ch]\n",
    "        except:\n",
    "            ch=0\n",
    "            a = dict[i] + listofdigitsofgamma[ch]\n",
    "        if a>=33:\n",
    "            a = a%33\n",
    "        ch+=1\n",
    "        listofdigitsresult.append(a)\n",
    "    print(\"Числа зашифрованного текста\", listofdigitsresult)\n",
    "    # теперь обратно числа представим в виде букв\n",
    "    textencrypted=\"\"\n",
    "    for i in listofdigitsresult:\n",
    "        textencrypted+=dict2[i]\n",
    "    print(\"Зашифрованный текст: \", textencrypted)\n",
    "    # теперь приступим к реализации алгоритма дешифровки\n",
    "    listofdigits = list()\n",
    "    for i in textencrypted:\n",
    "        listofdigits.append(dict[i])\n",
    "    ch = 0\n",
    "    listofdigits1 = list()\n",
    "    for i in listofdigits:\n",
    "        a = i - listofdigitsofgamma[ch]\n",
    "        #проблемы тут могут быть\n",
    "        if a < 1:\n",
    "            a = 33 + a\n",
    "        listofdigits1.append(a)\n",
    "        ch+=1\n",
    "    textdecrypted = \"\"\n",
    "    for i in listofdigits1:\n",
    "        textdecrypted+=dict2[i]\n",
    "    print(\"Decrypted text\", textdecrypted)"
   ]
  },
  {
   "cell_type": "code",
   "execution_count": 5,
   "id": "25296891",
   "metadata": {},
   "outputs": [
    {
     "name": "stdout",
     "output_type": "stream",
     "text": [
      "Введите гамму на русском языке без пробеловнекая\n",
      "Введите текст для шифрованиянекая\n",
      "Числа текста [15, 6, 12, 1, 32]\n",
      "числа гаммы [15, 6, 12, 1, 32]\n",
      "Числа зашифрованного текста [30, 12, 24, 2, 31]\n",
      "Зашифрованный текст:  ькцбэ\n",
      "Decrypted text некая\n"
     ]
    }
   ],
   "source": [
    "if __name__ == '__main__':\n",
    "    main()"
   ]
  },
  {
   "cell_type": "code",
   "execution_count": null,
   "id": "dc805e58",
   "metadata": {},
   "outputs": [],
   "source": []
  }
 ],
 "metadata": {
  "kernelspec": {
   "display_name": "Python 3",
   "language": "python",
   "name": "python3"
  },
  "language_info": {
   "codemirror_mode": {
    "name": "ipython",
    "version": 3
   },
   "file_extension": ".py",
   "mimetype": "text/x-python",
   "name": "python",
   "nbconvert_exporter": "python",
   "pygments_lexer": "ipython3",
   "version": "3.9.5"
  }
 },
 "nbformat": 4,
 "nbformat_minor": 5
}
